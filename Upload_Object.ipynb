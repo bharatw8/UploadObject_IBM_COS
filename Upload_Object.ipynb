{
 "cells": [
  {
   "cell_type": "code",
   "execution_count": 1,
   "metadata": {},
   "outputs": [],
   "source": [
    "import ibm_boto3, boto3\n",
    "from ibm_botocore.client import Config, ClientError\n",
    "import os, math"
   ]
  },
  {
   "cell_type": "code",
   "execution_count": null,
   "metadata": {},
   "outputs": [],
   "source": [
    "# Constants for IBM COS values\n",
    "COS_ENDPOINT = \"https://s3.us.cloud-object-storage.appdomain.cloud/\" \n",
    "COS_API_KEY_ID = \"xxxxxxxxxxxxxx\" # eg \"W00YiRnLW4a3fTjMB-oiB-2ySfTrFBIQQWanc--P3byk\"\n",
    "COS_AUTH_ENDPOINT = \"https://iam.cloud.ibm.com/identity/token\"\n",
    "COS_RESOURCE_CRN = \"crn:v1:bluemix:public:cloud-object-storage:global:xxxxx:xxxxx::\" "
   ]
  },
  {
   "cell_type": "code",
   "execution_count": null,
   "metadata": {},
   "outputs": [],
   "source": [
    "# Create resource\n",
    "cos = ibm_boto3.resource(\"s3\",\n",
    "    ibm_api_key_id=COS_API_KEY_ID,\n",
    "    ibm_service_instance_id=COS_RESOURCE_CRN,\n",
    "    ibm_auth_endpoint=COS_AUTH_ENDPOINT,\n",
    "    config=Config(signature_version=\"oauth\"),\n",
    "    endpoint_url=COS_ENDPOINT\n",
    ")"
   ]
  },
  {
   "cell_type": "code",
   "execution_count": null,
   "metadata": {},
   "outputs": [],
   "source": [
    "#get bucket list\n",
    "def get_buckets():\n",
    "    print(\"Retrieving list of buckets\")\n",
    "    try:\n",
    "        buckets = cos.buckets.all()\n",
    "        for bucket in buckets:\n",
    "            print(\"Bucket Name: {0}\".format(bucket.name))\n",
    "    except ClientError as be:\n",
    "        print(\"CLIENT ERROR: {0}\\n\".format(be))\n",
    "    except Exception as e:\n",
    "        print(\"Unable to retrieve list buckets: {0}\".format(e))\n",
    "    return list(buckets)\n"
   ]
  },
  {
   "cell_type": "code",
   "execution_count": null,
   "metadata": {},
   "outputs": [],
   "source": [
    "def multi_part_upload(bucket_name, item_name, file_path):\n",
    "    try:\n",
    "        print(\"Starting file transfer for {0} to bucket: {1}\\n\".format(item_name, bucket_name))\n",
    "        # set 5 MB chunks\n",
    "        part_size = 1024 * 1024 * 5\n",
    "\n",
    "        # set threadhold to 15 MB\n",
    "        file_threshold = 1024 * 1024 * 15\n",
    "\n",
    "        # set the transfer threshold and chunk size\n",
    "        transfer_config = ibm_boto3.s3.transfer.TransferConfig(\n",
    "            multipart_threshold=file_threshold,\n",
    "            multipart_chunksize=part_size\n",
    "        )\n",
    "\n",
    "        # the upload_fileobj method will automatically execute a multi-part upload\n",
    "        # in 5 MB chunks for all files over 15 MB\n",
    "        with open(file_path, \"rb\") as file_data:\n",
    "            cos.Object(bucket_name, item_name).upload_fileobj(\n",
    "                Fileobj=file_data,\n",
    "                Config=transfer_config\n",
    "            )\n",
    "\n",
    "        print(\"Transfer for {0} Complete!\\n\".format(item_name))\n",
    "    except ClientError as be:\n",
    "        print(\"CLIENT ERROR: {0}\\n\".format(be))\n",
    "    except Exception as e:\n",
    "        print(\"Unable to complete multi-part upload: {0}\".format(e))\n",
    "        \n"
   ]
  },
  {
   "cell_type": "code",
   "execution_count": null,
   "metadata": {},
   "outputs": [],
   "source": [
    "bck_name='xxxxxxx'\n",
    "itm_nm=input(\"Please enter the item name: \")\n",
    "fl_pth=input(\"Please enter the file path: \")\n",
    "\n",
    "\n",
    "\n",
    "multi_part_upload(bck_name,itm_nm,fl_pth)"
   ]
  }
 ],
 "metadata": {
  "kernelspec": {
   "display_name": "Python 3",
   "language": "python",
   "name": "python3"
  },
  "language_info": {
   "codemirror_mode": {
    "name": "ipython",
    "version": 3
   },
   "file_extension": ".py",
   "mimetype": "text/x-python",
   "name": "python",
   "nbconvert_exporter": "python",
   "pygments_lexer": "ipython3",
   "version": "3.6.8"
  }
 },
 "nbformat": 4,
 "nbformat_minor": 2
}
